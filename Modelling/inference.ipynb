{
 "cells": [
  {
   "cell_type": "markdown",
   "metadata": {},
   "source": [
    "# Import Libraries"
   ]
  },
  {
   "cell_type": "code",
   "execution_count": 1,
   "metadata": {},
   "outputs": [],
   "source": [
    "import pandas as pd\n",
    "import joblib"
   ]
  },
  {
   "cell_type": "markdown",
   "metadata": {},
   "source": [
    "# Data Inference"
   ]
  },
  {
   "cell_type": "code",
   "execution_count": 2,
   "metadata": {},
   "outputs": [
    {
     "data": {
      "text/html": [
       "<div>\n",
       "<style scoped>\n",
       "    .dataframe tbody tr th:only-of-type {\n",
       "        vertical-align: middle;\n",
       "    }\n",
       "\n",
       "    .dataframe tbody tr th {\n",
       "        vertical-align: top;\n",
       "    }\n",
       "\n",
       "    .dataframe thead th {\n",
       "        text-align: right;\n",
       "    }\n",
       "</style>\n",
       "<table border=\"1\" class=\"dataframe\">\n",
       "  <thead>\n",
       "    <tr style=\"text-align: right;\">\n",
       "      <th></th>\n",
       "      <th>TRANSACTION_ID</th>\n",
       "      <th>CUSTOMER_ID</th>\n",
       "      <th>TERMINAL_ID</th>\n",
       "      <th>TX_AMOUNT</th>\n",
       "      <th>TX_TIME_SECONDS</th>\n",
       "      <th>TX_TIME_DAYS</th>\n",
       "    </tr>\n",
       "  </thead>\n",
       "  <tbody>\n",
       "    <tr>\n",
       "      <th>0</th>\n",
       "      <td>196909.0</td>\n",
       "      <td>1997</td>\n",
       "      <td>8875</td>\n",
       "      <td>182.96</td>\n",
       "      <td>1773796</td>\n",
       "      <td>20</td>\n",
       "    </tr>\n",
       "    <tr>\n",
       "      <th>1</th>\n",
       "      <td>1113560.0</td>\n",
       "      <td>1728</td>\n",
       "      <td>1003</td>\n",
       "      <td>1051.92</td>\n",
       "      <td>10046193</td>\n",
       "      <td>116</td>\n",
       "    </tr>\n",
       "  </tbody>\n",
       "</table>\n",
       "</div>"
      ],
      "text/plain": [
       "   TRANSACTION_ID  CUSTOMER_ID  TERMINAL_ID  TX_AMOUNT  TX_TIME_SECONDS  \\\n",
       "0        196909.0         1997         8875     182.96          1773796   \n",
       "1       1113560.0         1728         1003    1051.92         10046193   \n",
       "\n",
       "   TX_TIME_DAYS  \n",
       "0            20  \n",
       "1           116  "
      ]
     },
     "execution_count": 2,
     "metadata": {},
     "output_type": "execute_result"
    }
   ],
   "source": [
    "# load model\n",
    "model = joblib.load(\"my_model.pkl\")\n",
    "\n",
    "# membuat data inference\n",
    "data = {\n",
    "    'TRANSACTION_ID' : [196909., 1113560],\n",
    "    'CUSTOMER_ID' : [1997,1728],\n",
    "    'TERMINAL_ID' : [8875,1003],\n",
    "    'TX_AMOUNT' : [ 182.96, 1051.92],\n",
    "    'TX_TIME_SECONDS' : [ 1773796, 10046193],\n",
    "    'TX_TIME_DAYS' : [ 20, 116]\n",
    "    }\n",
    "\n",
    "# Membuat DataFrame\n",
    "data_inf = pd.DataFrame(data)\n",
    "data_inf"
   ]
  },
  {
   "cell_type": "markdown",
   "metadata": {},
   "source": [
    "# Model Prediction Inference"
   ]
  },
  {
   "cell_type": "code",
   "execution_count": 3,
   "metadata": {},
   "outputs": [
    {
     "data": {
      "text/html": [
       "<div>\n",
       "<style scoped>\n",
       "    .dataframe tbody tr th:only-of-type {\n",
       "        vertical-align: middle;\n",
       "    }\n",
       "\n",
       "    .dataframe tbody tr th {\n",
       "        vertical-align: top;\n",
       "    }\n",
       "\n",
       "    .dataframe thead th {\n",
       "        text-align: right;\n",
       "    }\n",
       "</style>\n",
       "<table border=\"1\" class=\"dataframe\">\n",
       "  <thead>\n",
       "    <tr style=\"text-align: right;\">\n",
       "      <th></th>\n",
       "      <th>TRANSACTION_ID</th>\n",
       "      <th>CUSTOMER_ID</th>\n",
       "      <th>TERMINAL_ID</th>\n",
       "      <th>TX_AMOUNT</th>\n",
       "      <th>TX_TIME_SECONDS</th>\n",
       "      <th>TX_TIME_DAYS</th>\n",
       "      <th>Prediction</th>\n",
       "    </tr>\n",
       "  </thead>\n",
       "  <tbody>\n",
       "    <tr>\n",
       "      <th>0</th>\n",
       "      <td>196909.0</td>\n",
       "      <td>1997</td>\n",
       "      <td>8875</td>\n",
       "      <td>182.96</td>\n",
       "      <td>1773796</td>\n",
       "      <td>20</td>\n",
       "      <td>0</td>\n",
       "    </tr>\n",
       "    <tr>\n",
       "      <th>1</th>\n",
       "      <td>1113560.0</td>\n",
       "      <td>1728</td>\n",
       "      <td>1003</td>\n",
       "      <td>1051.92</td>\n",
       "      <td>10046193</td>\n",
       "      <td>116</td>\n",
       "      <td>1</td>\n",
       "    </tr>\n",
       "  </tbody>\n",
       "</table>\n",
       "</div>"
      ],
      "text/plain": [
       "   TRANSACTION_ID  CUSTOMER_ID  TERMINAL_ID  TX_AMOUNT  TX_TIME_SECONDS  \\\n",
       "0        196909.0         1997         8875     182.96          1773796   \n",
       "1       1113560.0         1728         1003    1051.92         10046193   \n",
       "\n",
       "   TX_TIME_DAYS  Prediction  \n",
       "0            20           0  \n",
       "1           116           1  "
      ]
     },
     "execution_count": 3,
     "metadata": {},
     "output_type": "execute_result"
    }
   ],
   "source": [
    "# Memprediksi menggunakan model pada data_inf\n",
    "prediction = model.predict(data_inf)\n",
    "\n",
    "# Menambahkan kolom 'Prediction' ke dalam DataFrame data_inf\n",
    "data_inf['Prediction'] = prediction\n",
    "data_inf"
   ]
  },
  {
   "cell_type": "markdown",
   "metadata": {},
   "source": [
    "# Kesimpulan"
   ]
  },
  {
   "cell_type": "markdown",
   "metadata": {},
   "source": [
    "model membuat prediksi berdasarkan fitur-fitur transaksi tertentu. Transaksi pertama dianggap sebagai non-fraud, sementara transaksi kedua dianggap sebagai fraud. Model ini mungkin menggunakan karakteristik seperti jumlah transaksi, jumlah uang yang ditransfer, dan waktu transaksi untuk membuat prediksi."
   ]
  }
 ],
 "metadata": {
  "kernelspec": {
   "display_name": "base",
   "language": "python",
   "name": "python3"
  },
  "language_info": {
   "codemirror_mode": {
    "name": "ipython",
    "version": 3
   },
   "file_extension": ".py",
   "mimetype": "text/x-python",
   "name": "python",
   "nbconvert_exporter": "python",
   "pygments_lexer": "ipython3",
   "version": "3.11.5"
  }
 },
 "nbformat": 4,
 "nbformat_minor": 2
}
